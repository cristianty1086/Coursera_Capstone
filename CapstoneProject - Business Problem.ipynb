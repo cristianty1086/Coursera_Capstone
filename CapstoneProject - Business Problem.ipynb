{
 "cells": [
  {
   "cell_type": "markdown",
   "metadata": {},
   "source": [
    "# Business Understanding <a id=\"0\"></a>"
   ]
  },
  {
   "cell_type": "markdown",
   "metadata": {},
   "source": [
    "\n",
    "Traffic accidents are a very serious problem in society as many human lives are lost or the physical damage generated may carry out a long recovery process. In this sense, the prevention of traffic accidents is a very important issue to consider because it saves lives and also reduces material damage.\n",
    "\n",
    "According to the data on traffic accidents, the factors that cause the probability of a traffic accident that they cause are diverse. Such as drunkenness, drug use, inattention, excessive speed, weather, road condition, etc. Among the factors there are some that can allow us to determine that in certain areas, under certain physical conditions of the road and weather, it is possible to determine the high probability of a serious traffic accident.\n",
    "\n",
    "So we main problem is ¿how we can predict the fatality of an accident?"
   ]
  },
  {
   "cell_type": "code",
   "execution_count": null,
   "metadata": {},
   "outputs": [],
   "source": []
  }
 ],
 "metadata": {
  "kernelspec": {
   "display_name": "Python 3",
   "language": "python",
   "name": "python3"
  },
  "language_info": {
   "codemirror_mode": {
    "name": "ipython",
    "version": 3
   },
   "file_extension": ".py",
   "mimetype": "text/x-python",
   "name": "python",
   "nbconvert_exporter": "python",
   "pygments_lexer": "ipython3",
   "version": "3.7.4"
  }
 },
 "nbformat": 4,
 "nbformat_minor": 2
}
